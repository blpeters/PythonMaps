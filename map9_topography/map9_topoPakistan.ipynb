{
 "cells": [
  {
   "cell_type": "markdown",
   "id": "85465728-314d-4827-8254-61ac45333364",
   "metadata": {},
   "source": [
    "A topographic map of Pakistan using Rasterio, geopandas, EarthPy, etc."
   ]
  },
  {
   "cell_type": "code",
   "execution_count": null,
   "id": "5881cfe1-b340-48ed-93be-c492612b5f93",
   "metadata": {},
   "outputs": [],
   "source": []
  }
 ],
 "metadata": {
  "kernelspec": {
   "display_name": "Python 3 (ipykernel)",
   "language": "python",
   "name": "python3"
  },
  "language_info": {
   "codemirror_mode": {
    "name": "ipython",
    "version": 3
   },
   "file_extension": ".py",
   "mimetype": "text/x-python",
   "name": "python",
   "nbconvert_exporter": "python",
   "pygments_lexer": "ipython3",
   "version": "3.13.1"
  }
 },
 "nbformat": 4,
 "nbformat_minor": 5
}
